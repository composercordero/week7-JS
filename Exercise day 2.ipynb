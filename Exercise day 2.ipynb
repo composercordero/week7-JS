{
 "cells": [
  {
   "cell_type": "markdown",
   "id": "9fca9011",
   "metadata": {},
   "source": [
    "<a id=\"hw\"></a>\n",
    "\n",
    "# Homework Day 2"
   ]
  },
  {
   "cell_type": "markdown",
   "id": "70bd1f3d",
   "metadata": {},
   "source": [
    "### Question #1"
   ]
  },
  {
   "cell_type": "markdown",
   "id": "e50cbea4",
   "metadata": {},
   "source": [
    "Use the array of shop items provided and present the the information in the following format\n",
    "\n",
    "```\n",
    "=======================================\n",
    "Name: \t Air Max 97\n",
    "Price: \t 130\n",
    "About: \t The design of the shoe is commonly thought to be inspired by the bullet trains of Japan, but the design was inspired by mountain bikes. \n",
    "Category: shoes\n",
    "=======================================\n",
    "Name: \t Adidas NMD R1\n",
    "Price: \t 128\n",
    "About: \t New-wave classics, with a timeless vintage design: men’s NMD R1 gear is the ultimate go-anywhere shoe. Vibrant styles and soft cushioning will have you gliding through life, wherever it may take you.\n",
    "Category: shoes\n",
    "=======================================\n",
    "Name: \t Gucci Oversize T-shirt with Interlocking G\n",
    "Price: \t 580\n",
    "About: \t The now recognizable oversize Gucci T-shirt continues to evolve with each new collection, the Interlocking G print is influenced by an '80s design from the archives. Streetwear continues to be a defining feature of Gucci's collections and is often juxtaposed by tailored separates.\n",
    "Category: shirts\n",
    "=======================================\n",
    "Name: \t Nike Sportswear Club\n",
    "Price: \t 18.97\n",
    "About: \t The Nike Sportswear Club T-Shirt is made with our everyday cotton fabric and a classic fit for a familiar feel right out of the bag. An embroidered Futura logo on the chest provides a signature Nike look.\n",
    "Category: shirts\n",
    "=======================================\n",
    "Name: \t Spanx Flare Jeans, Vintage Indigo\n",
    "Price: \t 148\n",
    "About: \t These 70s inspired flare jeans are the perfect wear everywhere with anything style. Designed with premium stretch denim, high-rise coverage and hidden core shaping technology, this jean puts a new twist on a retro silhouette.\n",
    "Category: pants\n",
    "=======================================\n",
    "Name: \t Bonobos Premium Stretch Jeans\n",
    "Price: \t 69\n",
    "About: \t Resilient stretch denim made incredibly soft. Yes, jeans can be unbelievably comfortable.\n",
    "Category: pants\n",
    "```"
   ]
  },
  {
   "cell_type": "code",
   "execution_count": 3,
   "id": "0083b114",
   "metadata": {},
   "outputs": [],
   "source": [
    "var shopItems=[{\n",
    "    id:1,\n",
    "    name:\"Air Max 97\",\n",
    "    price:130.00,\n",
    "    desc:\"The design of the shoe is commonly thought to be inspired by the bullet trains of Japan, but the design was inspired by mountain bikes. \",\n",
    "    category:\"shoes\"\n",
    "},{\n",
    "    id:2,\n",
    "    name:\"Adidas NMD R1\",\n",
    "    price:128,\n",
    "    desc:\"New-wave classics, with a timeless vintage design: men’s NMD R1 gear is the ultimate go-anywhere shoe. Vibrant styles and soft cushioning will have you gliding through life, wherever it may take you.\",\n",
    "    category:\"shoes\"\n",
    "},{\n",
    "    id:3,\n",
    "    name:\"Gucci Oversize T-shirt with Interlocking G\",\n",
    "    price:580,\n",
    "    desc:\"The now recognizable oversize Gucci T-shirt continues to evolve with each new collection, the Interlocking G print is influenced by an '80s design from the archives. Streetwear continues to be a defining feature of Gucci's collections and is often juxtaposed by tailored separates.\",\n",
    "    category:\"shirts\"\n",
    "},{\n",
    "    id:4,\n",
    "    name:\"Nike Sportswear Club\",\n",
    "    price:18.97,\n",
    "    desc:\"The Nike Sportswear Club T-Shirt is made with our everyday cotton fabric and a classic fit for a familiar feel right out of the bag. An embroidered Futura logo on the chest provides a signature Nike look.\",\n",
    "    category:\"shirts\"\n",
    "},{\n",
    "    id:5,\n",
    "    name:\"Spanx Flare Jeans, Vintage Indigo\",\n",
    "    price:148,\n",
    "    desc:\"These 70s inspired flare jeans are the perfect wear everywhere with anything style. Designed with premium stretch denim, high-rise coverage and hidden core shaping technology, this jean puts a new twist on a retro silhouette.\",\n",
    "    category:\"pants\"\n",
    "},{\n",
    "    id:6,\n",
    "    name:\"Bonobos Premium Stretch Jeans\",\n",
    "    price:69,\n",
    "    desc:\"Resilient stretch denim made incredibly soft. Yes, jeans can be unbelievably comfortable.\",\n",
    "    category:\"pants\"\n",
    "}]"
   ]
  },
  {
   "cell_type": "code",
   "execution_count": 4,
   "id": "82aaf889",
   "metadata": {},
   "outputs": [
    {
     "name": "stdout",
     "output_type": "stream",
     "text": [
      "=======================================\n",
      "Name:     Air Max 97\n",
      "Price:    130\n",
      "About:    The design of the shoe is commonly thought to be inspired by the bullet trains of Japan, but the design was inspired by mountain bikes. \n",
      "Category:    shoes\n",
      "=======================================\n",
      "Name:     Adidas NMD R1\n",
      "Price:    128\n",
      "About:    New-wave classics, with a timeless vintage design: men’s NMD R1 gear is the ultimate go-anywhere shoe. Vibrant styles and soft cushioning will have you gliding through life, wherever it may take you.\n",
      "Category:    shoes\n",
      "=======================================\n",
      "Name:     Gucci Oversize T-shirt with Interlocking G\n",
      "Price:    580\n",
      "About:    The now recognizable oversize Gucci T-shirt continues to evolve with each new collection, the Interlocking G print is influenced by an '80s design from the archives. Streetwear continues to be a defining feature of Gucci's collections and is often juxtaposed by tailored separates.\n",
      "Category:    shirts\n",
      "=======================================\n",
      "Name:     Nike Sportswear Club\n",
      "Price:    18.97\n",
      "About:    The Nike Sportswear Club T-Shirt is made with our everyday cotton fabric and a classic fit for a familiar feel right out of the bag. An embroidered Futura logo on the chest provides a signature Nike look.\n",
      "Category:    shirts\n",
      "=======================================\n",
      "Name:     Spanx Flare Jeans, Vintage Indigo\n",
      "Price:    148\n",
      "About:    These 70s inspired flare jeans are the perfect wear everywhere with anything style. Designed with premium stretch denim, high-rise coverage and hidden core shaping technology, this jean puts a new twist on a retro silhouette.\n",
      "Category:    pants\n",
      "=======================================\n",
      "Name:     Bonobos Premium Stretch Jeans\n",
      "Price:    69\n",
      "About:    Resilient stretch denim made incredibly soft. Yes, jeans can be unbelievably comfortable.\n",
      "Category:    pants\n"
     ]
    }
   ],
   "source": [
    "//Solution\n",
    "\n",
    "\n",
    "function receipt(array){\n",
    "    \n",
    "    for (var i = 0; i < array.length; i++){\n",
    "        console.log('=======================================');\n",
    "        console.log(`Name:     ${array[i]['name']}`);\n",
    "        console.log(`Price:    ${array[i]['price']}`);\n",
    "        console.log(`About:    ${array[i]['desc']}`);\n",
    "        console.log(`Category:    ${array[i]['category']}`);\n",
    "    }\n",
    "}\n",
    "\n",
    "\n",
    "receipt(shopItems)\n",
    "\n",
    "\n"
   ]
  },
  {
   "cell_type": "markdown",
   "id": "3e4e6fce",
   "metadata": {},
   "source": [
    "### Question #2"
   ]
  },
  {
   "cell_type": "markdown",
   "id": "97dba0b8",
   "metadata": {},
   "source": [
    "Write a function that parses through the below object and displays all of their\n",
    "favorite food dishes as shown:\n",
    "```\n",
    "pizza contains:\n",
    "Deep Dish\n",
    "South Side Thin Crust\n",
    "tacos contains:\n",
    "Anything not from Taco bell\n",
    "burgers contains:\n",
    "Portillos Burgers\n",
    "ice_cream contains:\n",
    "Chocolate\n",
    "Vanilla\n",
    "Oreo\n",
    "shakes contains:\n",
    "oberwise contains:\n",
    "Chocolate\n",
    "dunkin contains:\n",
    "Vanilla\n",
    "culvers contains:\n",
    "All of them\n",
    "mcDonalds contains:\n",
    "Sham-rock-shake\n",
    "cupids_candies contains:\n",
    "Chocolate Malt\n",
    "```\n",
    "<b>Note: </b> The solution should work on any object with values of strings, numbers, objects, and arrays not just this specific object\n",
    "\n",
    "<b> Hint </b> recursion and <a href=\"#typecheck\">checking types</a>"
   ]
  },
  {
   "cell_type": "code",
   "execution_count": 1,
   "id": "cde7f44e",
   "metadata": {},
   "outputs": [
    {
     "name": "stdout",
     "output_type": "stream",
     "text": [
      "pizza contains:\n",
      "Deep Dish\n",
      "South Side Thin Crust\n",
      "tacos contains:\n",
      "Anything not from Taco bell\n",
      "burgers contains:\n",
      "Portillos Burgers\n",
      "ice_cream contains:\n",
      "Chocolate\n",
      "Vanilla\n",
      "Oreo\n",
      "shakes contains:\n",
      "oberwise contains:\n",
      "Chocolate\n",
      "dunkin contains:\n",
      "Vanilla\n",
      "culvers contains:\n",
      "All of them\n",
      "mcDonalds contains:\n",
      "Sham-rock-shake\n",
      "cupids_candies contains:\n",
      "Chocolate Malt\n"
     ]
    }
   ],
   "source": [
    "var hwPerson = {\n",
    "    pizza:[\"Deep Dish\",\"South Side Thin Crust\"],\n",
    "    tacos:\"Anything not from Taco bell\",\n",
    "    burgers:\"Portillos Burgers\",\n",
    "    ice_cream:[\"Chocolate\",\"Vanilla\",\"Oreo\"],\n",
    "    shakes:[{\n",
    "        oberwise:\"Chocolate\",\n",
    "        dunkin:\"Vanilla\",\n",
    "        culvers:\"All of them\",\n",
    "        mcDonalds:\"Sham-rock-shake\",\n",
    "        cupids_candies:\"Chocolate Malt\"\n",
    "    }]\n",
    "}\n",
    "\n",
    "function favorites(obj){\n",
    "    for (k of Object.keys(obj)){\n",
    "        if(obj[k][0] instanceof Object){\n",
    "            console.log(`${k} contains:`)\n",
    "            favorites(obj[k][0])\n",
    "        }else if(obj[k] instanceof Array){\n",
    "            console.log(`${k} contains:`)\n",
    "            for (o of obj[k]){console.log(o)}\n",
    "        }else{\n",
    "            console.log(`${k} contains:`)\n",
    "            console.log(obj[k])\n",
    "        }\n",
    "    }\n",
    "}\n",
    "\n",
    "favorites(hwPerson)"
   ]
  },
  {
   "cell_type": "markdown",
   "id": "fb913b65",
   "metadata": {},
   "source": [
    "### Question #3"
   ]
  },
  {
   "cell_type": "markdown",
   "id": "9c6b801b",
   "metadata": {},
   "source": [
    "\n",
    "Create a Promised based function that will check a string to determine if it's length is greater than 10.\n",
    "\n",
    "If the length is greater than 10 then resolve it and console log \"Big word\". \n",
    "\n",
    "If the length of the string is less than 10 then reject it and  console log \"Small String\""
   ]
  },
  {
   "cell_type": "code",
   "execution_count": 38,
   "id": "e392b881",
   "metadata": {},
   "outputs": [],
   "source": [
    "//Solution\n",
    "\n",
    "var checkWord2 = (word) => {\n",
    "    return new Promise((resolve, reject) => {\n",
    "        if (word.lenght > 10){\n",
    "            resolve(true)\n",
    "        }else{\n",
    "            reject(false)\n",
    "        }\n",
    "    })\n",
    "}\n"
   ]
  },
  {
   "cell_type": "code",
   "execution_count": 42,
   "id": "051f0f67",
   "metadata": {},
   "outputs": [
    {
     "data": {
      "text/plain": [
       "Promise { <pending> }"
      ]
     },
     "execution_count": 42,
     "metadata": {},
     "output_type": "execute_result"
    },
    {
     "name": "stderr",
     "output_type": "stream",
     "text": [
      "Small String\n"
     ]
    },
    {
     "name": "stdout",
     "output_type": "stream",
     "text": [
      "Done.\n"
     ]
    }
   ],
   "source": [
    "var word = '12345678910';\n",
    "\n",
    "checkWord2(word).then(\n",
    "    (result)=>{console.log('Big Word')}\n",
    ").catch((error)=>{\n",
    "    console.error('Small String')\n",
    "}).finally(()=>console.log('Done.'))\n"
   ]
  },
  {
   "cell_type": "code",
   "execution_count": 40,
   "id": "592b0f30",
   "metadata": {},
   "outputs": [
    {
     "name": "stdout",
     "output_type": "stream",
     "text": [
      "11\n"
     ]
    }
   ],
   "source": [
    "console.log(word.length)"
   ]
  },
  {
   "cell_type": "markdown",
   "id": "9babd4ad",
   "metadata": {},
   "source": [
    "### Question #4"
   ]
  },
  {
   "cell_type": "markdown",
   "id": "03642f0c",
   "metadata": {},
   "source": [
    "Create a base class of GameMember and 2 children classes of Dealer, Player\n",
    "\n",
    "both dealer and player have:\n",
    "\n",
    "hand : array of 2 numbers (1-13) ex: [5, 12] which starts with 2 random numbers\n",
    "\n",
    "hit() : ability to add  a random number [1-13] to their hand\n",
    "\n",
    "When a Dealer trys to hit he can only hit if he has his hand adds up to less than a total of 17 (so 16 and under)\n",
    "\n",
    "When a Play hits they can hit as long as their total is under 21\n",
    "\n",
    "Use the randomNumber function provided below to gernerate a random number 1-12"
   ]
  },
  {
   "cell_type": "code",
   "execution_count": 107,
   "id": "9c3b6841",
   "metadata": {},
   "outputs": [
    {
     "data": {
      "text/plain": [
       "10"
      ]
     },
     "execution_count": 107,
     "metadata": {},
     "output_type": "execute_result"
    }
   ],
   "source": [
    "let getRandomNumber = () =>Math.floor(Math.random() * 13) + 1;\n",
    "getRandomNumber()"
   ]
  },
  {
   "cell_type": "code",
   "execution_count": 108,
   "id": "a8a862dc",
   "metadata": {},
   "outputs": [
    {
     "data": {
      "text/plain": [
       "10"
      ]
     },
     "execution_count": 108,
     "metadata": {},
     "output_type": "execute_result"
    }
   ],
   "source": [
    "// This will print a different random number\n",
    "getRandomNumber()"
   ]
  },
  {
   "cell_type": "code",
   "execution_count": 109,
   "id": "1f33d5c5",
   "metadata": {},
   "outputs": [
    {
     "name": "stdout",
     "output_type": "stream",
     "text": [
      "in the first timeout\n",
      "is Even Number is true\n",
      "its done\n",
      "Your new Salary is 33000\n",
      "Pay These People More\n"
     ]
    },
    {
     "name": "stderr",
     "output_type": "stream",
     "text": [
      "Poor Wages\n"
     ]
    },
    {
     "name": "stdout",
     "output_type": "stream",
     "text": [
      "Your new Salary is 33000\n"
     ]
    }
   ],
   "source": [
    "//Solution\n",
    "\n",
    "\n",
    "\n",
    "\n",
    "\n",
    "\n",
    "\n",
    "\n",
    "\n",
    "\n"
   ]
  },
  {
   "cell_type": "code",
   "execution_count": null,
   "id": "a8f15e27",
   "metadata": {},
   "outputs": [],
   "source": [
    "\n",
    "\n",
    "\n",
    "\n",
    "\n"
   ]
  },
  {
   "cell_type": "markdown",
   "id": "1b1300a1",
   "metadata": {},
   "source": [
    "### Question #5"
   ]
  },
  {
   "cell_type": "markdown",
   "id": "1bc58007",
   "metadata": {},
   "source": [
    "Complete 3 Codewars problems using JavaScript, start with ones you have already solved in python.  Paste a link here to the 3 questions you completed\n",
    "\n",
    "1: https://www.codewars.com/kata/514a7ac1a33775cbb500001e\n",
    "\n",
    "2: https://www.codewars.com/kata/5865918c6b569962950002a1\n",
    "\n",
    "3: https://www.codewars.com/kata/555a67db74814aa4ee0001b5"
   ]
  },
  {
   "cell_type": "code",
   "execution_count": null,
   "id": "68a829af",
   "metadata": {},
   "outputs": [],
   "source": []
  }
 ],
 "metadata": {
  "kernelspec": {
   "display_name": "JavaScript (Node.js)",
   "language": "javascript",
   "name": "javascript"
  },
  "language_info": {
   "file_extension": ".js",
   "mimetype": "application/javascript",
   "name": "javascript",
   "version": "18.16.0"
  }
 },
 "nbformat": 4,
 "nbformat_minor": 5
}
