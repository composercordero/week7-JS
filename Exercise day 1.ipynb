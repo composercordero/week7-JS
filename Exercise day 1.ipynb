{
 "cells": [
  {
   "cell_type": "markdown",
   "id": "b49428f3",
   "metadata": {},
   "source": [
    "# Index for Intro To JavaScript"
   ]
  },
  {
   "cell_type": "markdown",
   "id": "1d94fe8f",
   "metadata": {},
   "source": [
    "<a id=\"hw\"></a>\n",
    "# Homework"
   ]
  },
  {
   "cell_type": "markdown",
   "id": "d8fd6bbb",
   "metadata": {},
   "source": [
    "Complete the Following Coding Questions in JavaScript."
   ]
  },
  {
   "cell_type": "markdown",
   "id": "b5a02513",
   "metadata": {},
   "source": [
    "#### Question #1"
   ]
  },
  {
   "cell_type": "markdown",
   "id": "3aab52e7",
   "metadata": {},
   "source": [
    "Write a function that takes a string (sentence) and an array of strings (in this example dog_names) and check if one of the list members (dog names) is in the string (sentence). Return an array of the dog names found in the array\n",
    "\n",
    "hint: filter, includes \n",
    "\n",
    "for information on includes see:\n",
    "\n",
    "[https://developer.mozilla.org/en-US/docs/Web/JavaScript/Reference/Global_Objects/Array/includes](https://developer.mozilla.org/en-US/docs/Web/JavaScript/Reference/Global_Objects/Array/includes)"
   ]
  },
  {
   "cell_type": "code",
   "execution_count": 190,
   "id": "c3fae99e",
   "metadata": {},
   "outputs": [
    {
     "name": "stdout",
     "output_type": "stream",
     "text": [
      "[ 'Max' ]\n",
      "[]\n",
      "[ 'Fido', 'Gizmo' ]\n"
     ]
    }
   ],
   "source": [
    "var dogNames = [\"Max\",\"Fido\",\"Gizmo\",\"Nala\"]\n",
    "\n",
    "//Test Cases\n",
    "var testString1 = \"Hello, my dog is Max, and they have purple eyes!\"\n",
    "//Expect ['Max']\n",
    "\n",
    "var testString2 = \"My Dog is fast, her name is Tippi\"\n",
    "//Expect []\n",
    "\n",
    "var testString3 = \"Come here Fido and Gizmo come here\"\n",
    "//Expect['Fido','Gizmo']\n",
    "\n",
    "function getDogNames(sentence){\n",
    "    let li = []\n",
    "    for (let i = 0; i < dogNames.length; i++){\n",
    "        if (sentence.includes(dogNames[i])){\n",
    "            li.push(dogNames[i])\n",
    "        }\n",
    "    }\n",
    "    return li;\n",
    "}\n",
    "\n",
    "console.log(getDogNames(testString1));\n",
    "console.log(getDogNames(testString2));\n",
    "console.log(getDogNames(testString3));"
   ]
  },
  {
   "cell_type": "code",
   "execution_count": 189,
   "id": "857c88a7",
   "metadata": {},
   "outputs": [
    {
     "name": "stdout",
     "output_type": "stream",
     "text": [
      "[ 'Max' ]\n",
      "[]\n",
      "[ 'Fido', 'Gizmo' ]\n"
     ]
    }
   ],
   "source": [
    "var dogNames = [\"Max\",\"Fido\",\"Gizmo\",\"Nala\"];\n",
    "\n",
    "//Test Cases\n",
    "var testString1 = \"Hello, my dog is Max, and they have purple eyes!\";\n",
    "var testString2 = \"My Dog is fast, her name is Tippi\";\n",
    "var testString3 = \"Come here Fido and Gizmo come here\";\n",
    "\n",
    "function getDogNames(sentence){\n",
    "    return dogNames.filter((dog)=>sentence.includes(dog));\n",
    "}\n",
    "\n",
    "console.log(getDogNames(testString1));\n",
    "console.log(getDogNames(testString2));\n",
    "console.log(getDogNames(testString3));"
   ]
  },
  {
   "cell_type": "markdown",
   "id": "2769b4d8",
   "metadata": {},
   "source": [
    "#### Question #2"
   ]
  },
  {
   "cell_type": "markdown",
   "id": "7a36aafa",
   "metadata": {},
   "source": [
    "Write a Function using `map` to convert an array of number from inches to feet \n",
    "\n",
    "1 foot = 12 inches "
   ]
  },
  {
   "cell_type": "code",
   "execution_count": 202,
   "id": "e9efaa5f",
   "metadata": {},
   "outputs": [
    {
     "name": "stdout",
     "output_type": "stream",
     "text": [
      "[\n",
      "  5.5,\n",
      "  5.333333333333333,\n",
      "  5,\n",
      "  4.333333333333333,\n",
      "  6,\n",
      "  6.666666666666667,\n",
      "  4.25\n",
      "]\n",
      "\n",
      "Math.floor\n",
      "\n",
      "[\n",
      "  5, 5, 5, 4,\n",
      "  6, 6, 4\n",
      "]\n",
      "\n",
      "Math.ceil\n",
      "\n",
      "[\n",
      "  6, 6, 5, 5,\n",
      "  6, 7, 5\n",
      "]\n"
     ]
    }
   ],
   "source": [
    "var heightsInInches = [66, 64, 60, 52, 72, 80, 51]\n",
    "\n",
    "var inchesToFeet = heightsInInches.map((num)=>num/12);\n",
    "\n",
    "console.log(inchesToFeet);\n",
    "\n",
    "console.log('\\nMath.floor\\n')\n",
    "console.log(inchesToFeet.map((num)=>Math.floor(num)));\n",
    "console.log('\\nMath.ceil\\n')\n",
    "console.log(inchesToFeet.map((num)=>Math.ceil(num)));\n",
    "\n",
    "\n",
    "// Expect\n",
    "// [\n",
    "//   5.5,\n",
    "//   5.333333333333333,\n",
    "//   5,\n",
    "//   4.333333333333333,\n",
    "//   6,\n",
    "//   6.666666666666667,\n",
    "//   4.25\n",
    "// ]\n",
    "\n",
    "\n"
   ]
  },
  {
   "cell_type": "markdown",
   "id": "8d40af30",
   "metadata": {},
   "source": [
    "#### Question #3"
   ]
  },
  {
   "cell_type": "markdown",
   "id": "b92381b8",
   "metadata": {},
   "source": [
    "Using the Ternary Operator and map create an array that adds `is eating pizza` to every name from the array `tmnt` that ends with `o` and add `is being rude` to any other name."
   ]
  },
  {
   "cell_type": "code",
   "execution_count": 210,
   "id": "719c84f4",
   "metadata": {},
   "outputs": [
    {
     "name": "stdout",
     "output_type": "stream",
     "text": [
      "[\n",
      "  'Leonardo is eating pizza',\n",
      "  'Michelangelo is eating pizza',\n",
      "  'Donatello is eating pizza',\n",
      "  'Raphael is being rude'\n",
      "]\n"
     ]
    }
   ],
   "source": [
    "var tmnt = [\"Leonardo\", \"Michelangelo\", \"Donatello\", \"Raphael\"]\n",
    "// expect\n",
    "// [\n",
    "//   'Leonardo is eating pizza',\n",
    "//   'Michelangelo is eating pizza',\n",
    "//   'Donatello is eating pizza',\n",
    "//   'Raphael is being rude'\n",
    "// ]\n",
    "\n",
    "function pizza(array){\n",
    "    for (let i = 0; i < array.length; i++){\n",
    "        if (array[i].endsWith('o')){\n",
    "            array[i] += ' is eating pizza'\n",
    "        }else{\n",
    "            array[i] += ' is being rude'\n",
    "        }\n",
    "    }\n",
    "    return array\n",
    "}\n",
    "\n",
    "console.log(pizza(tmnt))\n"
   ]
  },
  {
   "cell_type": "code",
   "execution_count": 233,
   "id": "38a70f33",
   "metadata": {},
   "outputs": [
    {
     "name": "stdout",
     "output_type": "stream",
     "text": [
      "[\n",
      "  'Leonardo is eating pizza',\n",
      "  'Michelangelo is eating pizza',\n",
      "  'Donatello is eating pizza',\n",
      "  'Raphael is being rude'\n",
      "]\n"
     ]
    }
   ],
   "source": [
    "var tmnt = [\"Leonardo\", \"Michelangelo\", \"Donatello\", \"Raphael\"]\n",
    "\n",
    "var result = tmnt.map((name)=>name.endsWith('o')? name += ' is eating pizza' : name += ' is being rude');\n",
    "console.log(result)"
   ]
  },
  {
   "cell_type": "markdown",
   "id": "2fdd1b7d",
   "metadata": {},
   "source": [
    "#### Question #4"
   ]
  },
  {
   "cell_type": "markdown",
   "id": "9a70ee9d",
   "metadata": {},
   "source": [
    "Write an arrow function to find the max number in a list.  Do not use the Math.max Function.\n",
    "\n",
    "The List will be all positive numbers"
   ]
  },
  {
   "cell_type": "code",
   "execution_count": 267,
   "id": "2f9a675b",
   "metadata": {},
   "outputs": [
    {
     "name": "stdout",
     "output_type": "stream",
     "text": [
      "234125\n",
      "234125\n"
     ]
    }
   ],
   "source": [
    "var findAMax=[123,5436,45784,1234,34,65,234125,645,3452,13216,49]\n",
    "//Expect\n",
    "// 234125\n",
    "\n",
    "var max = findAMax.sort((a,b)=>b-a)[0]\n",
    "console.log(max)\n",
    "\n",
    "console.log(Math.max(...findAMax)) // I wanted to see how to use it!\n",
    "\n",
    "\n",
    "\n",
    "\n",
    "\n",
    "\n"
   ]
  },
  {
   "cell_type": "markdown",
   "id": "58414506",
   "metadata": {},
   "source": [
    "#### Question #5"
   ]
  },
  {
   "cell_type": "markdown",
   "id": "4873021e",
   "metadata": {},
   "source": [
    "At the <b>end</b> of the <b>third</b> Iteration (the third time the loop has ran) of this for Loop define the state of all the variables used in the cell"
   ]
  },
  {
   "cell_type": "code",
   "execution_count": 4,
   "id": "04117ac8",
   "metadata": {},
   "outputs": [
    {
     "name": "stdout",
     "output_type": "stream",
     "text": [
      "8\n",
      "B-I-N-G-O\n",
      "O\n",
      "\n",
      "\n",
      "7\n",
      "B-I-N-G-O\n",
      "O-\n",
      "\n",
      "\n",
      "6\n",
      "B-I-N-G-O\n",
      "O-G\n",
      "\n",
      "\n",
      "5\n",
      "B-I-N-G-O\n",
      "O-G-\n",
      "\n",
      "\n",
      "4\n",
      "B-I-N-G-O\n",
      "O-G-N\n",
      "\n",
      "\n",
      "3\n",
      "B-I-N-G-O\n",
      "O-G-N-\n",
      "\n",
      "\n",
      "2\n",
      "B-I-N-G-O\n",
      "O-G-N-I\n",
      "\n",
      "\n",
      "1\n",
      "B-I-N-G-O\n",
      "O-G-N-I-\n",
      "\n",
      "\n",
      "0\n",
      "B-I-N-G-O\n",
      "O-G-N-I-B\n",
      "\n",
      "\n"
     ]
    }
   ],
   "source": [
    "var bingo = \"B-I-N-G-O\"\n",
    "var ognib = \"\"\n",
    "for(let i=bingo.length-1; i>=0; i--){\n",
    "    ognib+=(bingo[i])\n",
    "    //define state from this line on the third iteration\n",
    "\n",
    "    console.log(i)\n",
    "    \n",
    "    console.log(bingo)\n",
    "    \n",
    "    console.log(ognib)\n",
    "    console.log('\\n')\n",
    "\n",
    "}\n",
    "\n",
    "// console.log(bingo.length)"
   ]
  },
  {
   "cell_type": "code",
   "execution_count": 143,
   "id": "9f373651",
   "metadata": {},
   "outputs": [],
   "source": [
    "//bingo value is\n",
    "B-I-N-G-O\n",
    "//ognib value is\n",
    "O-G\n",
    "// i value is\n",
    "6"
   ]
  },
  {
   "cell_type": "markdown",
   "id": "ebfc4d21",
   "metadata": {},
   "source": [
    "#### Question #6"
   ]
  },
  {
   "cell_type": "markdown",
   "id": "cfc0c75a",
   "metadata": {},
   "source": [
    "Complete 3 Codewars problems using JavaScript, start with ones you have already solved in python.  Paste a link hear to the 3 questions you completed"
   ]
  },
  {
   "cell_type": "markdown",
   "id": "e13a0943",
   "metadata": {},
   "source": [
    "1:\n",
    "\n",
    "\n",
    "2:\n",
    "\n",
    "\n",
    "3:\n",
    "\n"
   ]
  }
 ],
 "metadata": {
  "kernelspec": {
   "display_name": "JavaScript (Node.js)",
   "language": "javascript",
   "name": "javascript"
  },
  "language_info": {
   "file_extension": ".js",
   "mimetype": "application/javascript",
   "name": "javascript",
   "version": "18.16.0"
  }
 },
 "nbformat": 4,
 "nbformat_minor": 5
}
